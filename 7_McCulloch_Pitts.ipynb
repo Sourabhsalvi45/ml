{
  "cells": [
    {
      "cell_type": "code",
      "execution_count": 1,
      "metadata": {
        "colab": {
          "base_uri": "https://localhost:8080/"
        },
        "id": "PrIy4ykR8nkG",
        "outputId": "ebd83364-f96a-4c82-d57a-e36323e81983"
      },
      "outputs": [
        {
          "output_type": "stream",
          "name": "stdout",
          "text": [
            "Input vector:[1 1 1], Weight vector:[1 1 1]\n",
            "Dot product: 3\n",
            "When Threshold =3, Activation: 1\n"
          ]
        }
      ],
      "source": [
        "import numpy as np\n",
        "# np.random.seed(seed=2)\n",
        "I = np.random.choice([0,1], 3)# generate random vector I, sampling from {0,1}\n",
        "# W = np.random.choice([-1,1], 3) # generate random vector W, sampling from {-1,1}\n",
        "W = np.array([1,1,1])\n",
        "\n",
        "print(f'Input vector:{I}, Weight vector:{W}')\n",
        "\n",
        "dot = I @ W\n",
        "print(f'Dot product: {dot}')\n",
        "\n",
        "def linear_threshold_gate(dot: int, T: float) -> int:\n",
        "    '''Returns the binary threshold output'''\n",
        "    if dot >= T:\n",
        "        return 1\n",
        "    else:\n",
        "        return 0\n",
        "\n",
        "T = 3\n",
        "activation = linear_threshold_gate(dot, T)\n",
        "print(f'When Threshold =3, Activation: {activation}')"
      ]
    }
  ],
  "metadata": {
    "kernelspec": {
      "display_name": "Python 3",
      "language": "python",
      "name": "python3"
    },
    "language_info": {
      "codemirror_mode": {
        "name": "ipython",
        "version": 3
      },
      "file_extension": ".py",
      "mimetype": "text/x-python",
      "name": "python",
      "nbconvert_exporter": "python",
      "pygments_lexer": "ipython3",
      "version": "3.8.5"
    },
    "colab": {
      "provenance": []
    }
  },
  "nbformat": 4,
  "nbformat_minor": 0
}