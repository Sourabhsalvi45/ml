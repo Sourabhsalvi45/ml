{
  "cells": [
    {
      "cell_type": "code",
      "execution_count": 1,
      "metadata": {
        "colab": {
          "base_uri": "https://localhost:8080/"
        },
        "id": "_X9GKq_N7-rW",
        "outputId": "4a53cb5d-d975-4949-ca9d-8801d927f0d7"
      },
      "outputs": [
        {
          "output_type": "stream",
          "name": "stdout",
          "text": [
            "(1437, 64)\n",
            "(1437, 28)\n",
            "(360, 64)\n",
            "(360, 28)\n"
          ]
        }
      ],
      "source": [
        "# the code for importing and splitting the dataset\n",
        "import sklearn\n",
        "from sklearn.datasets import  load_digits\n",
        "digits = load_digits()\n",
        "X = digits.data\n",
        "y = digits.target\n",
        "from sklearn.model_selection import train_test_split\n",
        "X_train, X_test, y_train, y_test = train_test_split(X, y, test_size=0.2,\n",
        "random_state=1)\n",
        "print(X_train.shape)\n",
        "\n",
        "\n",
        "# Transforming the train and test sets such that they explain 95% of variance\n",
        "from sklearn.decomposition import PCA\n",
        "sklearn_pca = PCA(n_components=0.95)\n",
        "sklearn_pca.fit(X_train)\n",
        "X_train_transformed = sklearn_pca.transform(X_train)\n",
        "print(X_train_transformed.shape)\n",
        "print(X_test.shape)\n",
        "X_test_transformed =sklearn_pca.transform(X_test)\n",
        "print(X_test_transformed.shape)\n"
      ]
    }
  ],
  "metadata": {
    "kernelspec": {
      "display_name": "Python 3",
      "language": "python",
      "name": "python3"
    },
    "language_info": {
      "codemirror_mode": {
        "name": "ipython",
        "version": 3
      },
      "file_extension": ".py",
      "mimetype": "text/x-python",
      "name": "python",
      "nbconvert_exporter": "python",
      "pygments_lexer": "ipython3",
      "version": "3.8.5"
    },
    "colab": {
      "provenance": []
    }
  },
  "nbformat": 4,
  "nbformat_minor": 0
}