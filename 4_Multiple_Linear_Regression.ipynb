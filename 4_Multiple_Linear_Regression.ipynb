{
  "cells": [
    {
      "cell_type": "code",
      "execution_count": 1,
      "metadata": {
        "id": "mCj2RhvJ9eCR",
        "outputId": "253d8c38-cc57-41ba-ea65-b9eef13992a9",
        "colab": {
          "base_uri": "https://localhost:8080/"
        }
      },
      "outputs": [
        {
          "output_type": "stream",
          "name": "stdout",
          "text": [
            "[100.8667207]\n",
            "[107.2087328]\n"
          ]
        }
      ],
      "source": [
        "import pandas\n",
        "from sklearn import linear_model\n",
        "\n",
        "df = pandas.read_csv('/content/cars - cars.csv')\n",
        "\n",
        "X = df[['Weight', 'Volume']].values\n",
        "y = df['CO2'].values\n",
        "\n",
        "regr = linear_model.LinearRegression()\n",
        "regr.fit(X, y)\n",
        "\n",
        "#predict the CO2 emission of a car where the weight is 1150kg, and the volume is 1600cm3:\n",
        "predictedCO2=regr.predict([[1150, 1600]])\n",
        "print(predictedCO2)\n",
        "\n",
        "#predict the CO2 emission of a car where the weight is 2300kg, and the volume is 1300cm3:\n",
        "predictedCO2 = regr.predict([[2300, 1300]])\n",
        "print(predictedCO2)\n"
      ]
    },
    {
      "cell_type": "code",
      "execution_count": 2,
      "metadata": {
        "id": "woajH3QO9eCR",
        "outputId": "3bdf9170-016f-422e-f33f-82ebe8136b32",
        "colab": {
          "base_uri": "https://localhost:8080/"
        }
      },
      "outputs": [
        {
          "output_type": "execute_result",
          "data": {
            "text/plain": [
              "array([[ 790, 1000],\n",
              "       [1160, 1200],\n",
              "       [ 929, 1000],\n",
              "       [ 865,  900],\n",
              "       [1140, 1500],\n",
              "       [ 929, 1000],\n",
              "       [1109, 1400],\n",
              "       [1365, 1500],\n",
              "       [1112, 1500],\n",
              "       [1150, 1600],\n",
              "       [ 980, 1100],\n",
              "       [ 990, 1300],\n",
              "       [1112, 1000],\n",
              "       [1252, 1600],\n",
              "       [1326, 1600],\n",
              "       [1330, 1600],\n",
              "       [1365, 1600],\n",
              "       [1280, 2200],\n",
              "       [1119, 1600],\n",
              "       [1328, 2000],\n",
              "       [1584, 1600],\n",
              "       [1428, 2000],\n",
              "       [1365, 2100],\n",
              "       [1415, 1600],\n",
              "       [1415, 2000],\n",
              "       [1465, 1500],\n",
              "       [1490, 2000],\n",
              "       [1725, 2000],\n",
              "       [1523, 1600],\n",
              "       [1705, 2000],\n",
              "       [1605, 2100],\n",
              "       [1746, 2000],\n",
              "       [1235, 1600],\n",
              "       [1390, 1600],\n",
              "       [1405, 1600],\n",
              "       [1395, 2500]])"
            ]
          },
          "metadata": {},
          "execution_count": 2
        }
      ],
      "source": [
        "X"
      ]
    },
    {
      "cell_type": "code",
      "execution_count": 3,
      "metadata": {
        "id": "qvagdNGI9eCR",
        "outputId": "29e8f252-2ef0-402e-8a8b-21baf0a18bd3",
        "colab": {
          "base_uri": "https://localhost:8080/"
        }
      },
      "outputs": [
        {
          "output_type": "stream",
          "name": "stdout",
          "text": [
            "79.69471929115939\n",
            "[0.00755095 0.00780526]\n"
          ]
        }
      ],
      "source": [
        "print(regr.intercept_)\n",
        "print(regr.coef_)"
      ]
    }
  ],
  "metadata": {
    "kernelspec": {
      "display_name": "Python 3",
      "language": "python",
      "name": "python3"
    },
    "language_info": {
      "codemirror_mode": {
        "name": "ipython",
        "version": 3
      },
      "file_extension": ".py",
      "mimetype": "text/x-python",
      "name": "python",
      "nbconvert_exporter": "python",
      "pygments_lexer": "ipython3",
      "version": "3.8.5"
    },
    "colab": {
      "provenance": []
    }
  },
  "nbformat": 4,
  "nbformat_minor": 0
}